{
 "cells": [
  {
   "cell_type": "markdown",
   "metadata": {},
   "source": [
    "### Modeling Interest Rate Meta-feature\n",
    "Use previous application data to predict 'CNT_PAYMENT', which is the term of previous credit of a previous application at Home Credit. "
   ]
  },
  {
   "cell_type": "code",
   "execution_count": 1,
   "metadata": {},
   "outputs": [
    {
     "name": "stderr",
     "output_type": "stream",
     "text": [
      "/opt/anaconda3/lib/python3.7/site-packages/lightgbm/__init__.py:48: UserWarning: Starting from version 2.2.1, the library file in distribution wheels for macOS is built by the Apple Clang (Xcode_8.3.3) compiler.\n",
      "This means that in case of installing LightGBM from PyPI via the ``pip install lightgbm`` command, you don't need to install the gcc compiler anymore.\n",
      "Instead of that, you need to install the OpenMP library, which is required for running LightGBM on the system with the Apple Clang compiler.\n",
      "You can install the OpenMP library by the following command: ``brew install libomp``.\n",
      "  \"You can install the OpenMP library by the following command: ``brew install libomp``.\", UserWarning)\n"
     ]
    }
   ],
   "source": [
    "import numpy as np\n",
    "import pandas as pd\n",
    "import gc\n",
    "import time\n",
    "from contextlib import contextmanager\n",
    "from lightgbm import LGBMClassifier\n",
    "import matplotlib.pyplot as plt\n",
    "import seaborn as sns\n",
    "from sklearn.model_selection import KFold\n",
    "from sklearn.preprocessing import LabelEncoder\n",
    "pd.options.mode.chained_assignment = None  # default='warn'"
   ]
  },
  {
   "cell_type": "code",
   "execution_count": 2,
   "metadata": {},
   "outputs": [],
   "source": [
    "t2 = pd.read_csv('test2.csv')\n",
    "t1 = pd.read_csv('test1.csv')\n",
    "tr = pd.read_csv('train.csv')\n",
    "tr1=pd.read_csv('validation.csv')"
   ]
  },
  {
   "cell_type": "code",
   "execution_count": 3,
   "metadata": {},
   "outputs": [
    {
     "data": {
      "text/plain": [
       "(1297984, 111)"
      ]
     },
     "execution_count": 3,
     "metadata": {},
     "output_type": "execute_result"
    }
   ],
   "source": [
    "tr.shape"
   ]
  },
  {
   "cell_type": "markdown",
   "metadata": {},
   "source": [
    "Use 90000 training cases - tested with full set and produced same results as about 90k."
   ]
  },
  {
   "cell_type": "code",
   "execution_count": 4,
   "metadata": {},
   "outputs": [],
   "source": [
    "tr=tr[:90000]\n",
    "cnt=tr['CNT_PAYMENT']\n",
    "tr=tr.drop(columns='CNT_PAYMENT')\n",
    "tr['CNT_PAYMENT']=cnt"
   ]
  },
  {
   "cell_type": "code",
   "execution_count": 5,
   "metadata": {},
   "outputs": [
    {
     "name": "stdout",
     "output_type": "stream",
     "text": [
      "fitting\n"
     ]
    }
   ],
   "source": [
    "tr=tr.fillna(-1)\n",
    "#tr1=tr1.fillna(-1)\n",
    "clf = LGBMClassifier(\n",
    "            nthread=4,\n",
    "            objective='multiclass',\n",
    "            n_estimators=1000,\n",
    "            learning_rate=0.02, #originally 0.02\n",
    "            num_leaves=50,\n",
    "            max_depth=11,\n",
    "            min_split_gain=0.0222415,\n",
    "            min_child_weight=39.3259775,\n",
    "            silent=-1,\n",
    "            verbose=100)\n",
    "print('fitting')"
   ]
  },
  {
   "cell_type": "code",
   "execution_count": 6,
   "metadata": {
    "scrolled": false
   },
   "outputs": [
    {
     "name": "stdout",
     "output_type": "stream",
     "text": [
      "Index(['AMT_ANNUITY', 'AMT_CREDIT', 'AMT_GOODS_PRICE',\n",
      "       'HOUR_APPR_PROCESS_START', 'diff/goods', 'diff/credit',\n",
      "       'credit_to_annuity', 'price_to_annuity', 'simple_diff', 'credit_term',\n",
      "       ...\n",
      "       'WEEKDAY_APPR_PROCESS_START_THURSDAY',\n",
      "       'WEEKDAY_APPR_PROCESS_START_TUESDAY',\n",
      "       'WEEKDAY_APPR_PROCESS_START_WEDNESDAY', 'NAME_TYPE_SUITE_Children',\n",
      "       'NAME_TYPE_SUITE_Family', 'NAME_TYPE_SUITE_Group of people',\n",
      "       'NAME_TYPE_SUITE_Other_A', 'NAME_TYPE_SUITE_Other_B',\n",
      "       'NAME_TYPE_SUITE_Spouse, partner', 'NAME_TYPE_SUITE_Unaccompanied'],\n",
      "      dtype='object', length=108)\n"
     ]
    }
   ],
   "source": [
    "feats=tr.columns\n",
    "feats=feats[2:110]\n",
    "print(feats)"
   ]
  },
  {
   "cell_type": "markdown",
   "metadata": {},
   "source": [
    "Fitting model"
   ]
  },
  {
   "cell_type": "code",
   "execution_count": 7,
   "metadata": {},
   "outputs": [],
   "source": [
    "model=clf.fit(tr[feats], tr['CNT_PAYMENT'], verbose= 500)"
   ]
  },
  {
   "cell_type": "code",
   "execution_count": 8,
   "metadata": {},
   "outputs": [
    {
     "data": {
      "text/html": [
       "<div>\n",
       "<style scoped>\n",
       "    .dataframe tbody tr th:only-of-type {\n",
       "        vertical-align: middle;\n",
       "    }\n",
       "\n",
       "    .dataframe tbody tr th {\n",
       "        vertical-align: top;\n",
       "    }\n",
       "\n",
       "    .dataframe thead th {\n",
       "        text-align: right;\n",
       "    }\n",
       "</style>\n",
       "<table border=\"1\" class=\"dataframe\">\n",
       "  <thead>\n",
       "    <tr style=\"text-align: right;\">\n",
       "      <th></th>\n",
       "      <th>Unnamed: 0</th>\n",
       "      <th>SK_ID_CURR</th>\n",
       "      <th>AMT_ANNUITY</th>\n",
       "      <th>AMT_CREDIT</th>\n",
       "      <th>AMT_GOODS_PRICE</th>\n",
       "      <th>HOUR_APPR_PROCESS_START</th>\n",
       "      <th>diff/goods</th>\n",
       "      <th>diff/credit</th>\n",
       "      <th>credit_to_annuity</th>\n",
       "      <th>price_to_annuity</th>\n",
       "      <th>...</th>\n",
       "      <th>WEEKDAY_APPR_PROCESS_START_TUESDAY</th>\n",
       "      <th>WEEKDAY_APPR_PROCESS_START_WEDNESDAY</th>\n",
       "      <th>NAME_TYPE_SUITE_Children</th>\n",
       "      <th>NAME_TYPE_SUITE_Family</th>\n",
       "      <th>NAME_TYPE_SUITE_Group of people</th>\n",
       "      <th>NAME_TYPE_SUITE_Other_A</th>\n",
       "      <th>NAME_TYPE_SUITE_Other_B</th>\n",
       "      <th>NAME_TYPE_SUITE_Spouse, partner</th>\n",
       "      <th>NAME_TYPE_SUITE_Unaccompanied</th>\n",
       "      <th>CNT_PAYMENT</th>\n",
       "    </tr>\n",
       "  </thead>\n",
       "  <tbody>\n",
       "    <tr>\n",
       "      <th>0</th>\n",
       "      <td>0</td>\n",
       "      <td>271877</td>\n",
       "      <td>1730.430</td>\n",
       "      <td>17145.0</td>\n",
       "      <td>17145.0</td>\n",
       "      <td>15</td>\n",
       "      <td>0.00000</td>\n",
       "      <td>0.000000</td>\n",
       "      <td>9.907942</td>\n",
       "      <td>9.907942</td>\n",
       "      <td>...</td>\n",
       "      <td>0</td>\n",
       "      <td>0</td>\n",
       "      <td>0</td>\n",
       "      <td>0</td>\n",
       "      <td>0</td>\n",
       "      <td>0</td>\n",
       "      <td>0</td>\n",
       "      <td>0</td>\n",
       "      <td>0</td>\n",
       "      <td>12</td>\n",
       "    </tr>\n",
       "    <tr>\n",
       "      <th>1</th>\n",
       "      <td>1</td>\n",
       "      <td>108129</td>\n",
       "      <td>25188.615</td>\n",
       "      <td>679671.0</td>\n",
       "      <td>607500.0</td>\n",
       "      <td>11</td>\n",
       "      <td>0.11880</td>\n",
       "      <td>0.106185</td>\n",
       "      <td>26.983262</td>\n",
       "      <td>24.118039</td>\n",
       "      <td>...</td>\n",
       "      <td>0</td>\n",
       "      <td>0</td>\n",
       "      <td>0</td>\n",
       "      <td>0</td>\n",
       "      <td>0</td>\n",
       "      <td>0</td>\n",
       "      <td>0</td>\n",
       "      <td>0</td>\n",
       "      <td>1</td>\n",
       "      <td>36</td>\n",
       "    </tr>\n",
       "    <tr>\n",
       "      <th>2</th>\n",
       "      <td>2</td>\n",
       "      <td>122040</td>\n",
       "      <td>15060.735</td>\n",
       "      <td>136444.5</td>\n",
       "      <td>112500.0</td>\n",
       "      <td>11</td>\n",
       "      <td>0.21284</td>\n",
       "      <td>0.175489</td>\n",
       "      <td>9.059618</td>\n",
       "      <td>7.469755</td>\n",
       "      <td>...</td>\n",
       "      <td>1</td>\n",
       "      <td>0</td>\n",
       "      <td>0</td>\n",
       "      <td>0</td>\n",
       "      <td>0</td>\n",
       "      <td>0</td>\n",
       "      <td>0</td>\n",
       "      <td>1</td>\n",
       "      <td>0</td>\n",
       "      <td>12</td>\n",
       "    </tr>\n",
       "    <tr>\n",
       "      <th>3</th>\n",
       "      <td>3</td>\n",
       "      <td>176158</td>\n",
       "      <td>47041.335</td>\n",
       "      <td>470790.0</td>\n",
       "      <td>450000.0</td>\n",
       "      <td>7</td>\n",
       "      <td>0.04620</td>\n",
       "      <td>0.044160</td>\n",
       "      <td>10.008007</td>\n",
       "      <td>9.566055</td>\n",
       "      <td>...</td>\n",
       "      <td>0</td>\n",
       "      <td>0</td>\n",
       "      <td>0</td>\n",
       "      <td>0</td>\n",
       "      <td>0</td>\n",
       "      <td>0</td>\n",
       "      <td>0</td>\n",
       "      <td>0</td>\n",
       "      <td>0</td>\n",
       "      <td>12</td>\n",
       "    </tr>\n",
       "    <tr>\n",
       "      <th>4</th>\n",
       "      <td>4</td>\n",
       "      <td>202054</td>\n",
       "      <td>31924.395</td>\n",
       "      <td>404055.0</td>\n",
       "      <td>337500.0</td>\n",
       "      <td>9</td>\n",
       "      <td>0.19720</td>\n",
       "      <td>0.164718</td>\n",
       "      <td>12.656622</td>\n",
       "      <td>10.571853</td>\n",
       "      <td>...</td>\n",
       "      <td>0</td>\n",
       "      <td>0</td>\n",
       "      <td>0</td>\n",
       "      <td>0</td>\n",
       "      <td>0</td>\n",
       "      <td>0</td>\n",
       "      <td>0</td>\n",
       "      <td>0</td>\n",
       "      <td>0</td>\n",
       "      <td>24</td>\n",
       "    </tr>\n",
       "  </tbody>\n",
       "</table>\n",
       "<p>5 rows × 111 columns</p>\n",
       "</div>"
      ],
      "text/plain": [
       "   Unnamed: 0  SK_ID_CURR  AMT_ANNUITY  AMT_CREDIT  AMT_GOODS_PRICE  \\\n",
       "0           0      271877     1730.430     17145.0          17145.0   \n",
       "1           1      108129    25188.615    679671.0         607500.0   \n",
       "2           2      122040    15060.735    136444.5         112500.0   \n",
       "3           3      176158    47041.335    470790.0         450000.0   \n",
       "4           4      202054    31924.395    404055.0         337500.0   \n",
       "\n",
       "   HOUR_APPR_PROCESS_START  diff/goods  diff/credit  credit_to_annuity  \\\n",
       "0                       15     0.00000     0.000000           9.907942   \n",
       "1                       11     0.11880     0.106185          26.983262   \n",
       "2                       11     0.21284     0.175489           9.059618   \n",
       "3                        7     0.04620     0.044160          10.008007   \n",
       "4                        9     0.19720     0.164718          12.656622   \n",
       "\n",
       "   price_to_annuity  ...  WEEKDAY_APPR_PROCESS_START_TUESDAY  \\\n",
       "0          9.907942  ...                                   0   \n",
       "1         24.118039  ...                                   0   \n",
       "2          7.469755  ...                                   1   \n",
       "3          9.566055  ...                                   0   \n",
       "4         10.571853  ...                                   0   \n",
       "\n",
       "   WEEKDAY_APPR_PROCESS_START_WEDNESDAY  NAME_TYPE_SUITE_Children  \\\n",
       "0                                     0                         0   \n",
       "1                                     0                         0   \n",
       "2                                     0                         0   \n",
       "3                                     0                         0   \n",
       "4                                     0                         0   \n",
       "\n",
       "   NAME_TYPE_SUITE_Family  NAME_TYPE_SUITE_Group of people  \\\n",
       "0                       0                                0   \n",
       "1                       0                                0   \n",
       "2                       0                                0   \n",
       "3                       0                                0   \n",
       "4                       0                                0   \n",
       "\n",
       "   NAME_TYPE_SUITE_Other_A  NAME_TYPE_SUITE_Other_B  \\\n",
       "0                        0                        0   \n",
       "1                        0                        0   \n",
       "2                        0                        0   \n",
       "3                        0                        0   \n",
       "4                        0                        0   \n",
       "\n",
       "   NAME_TYPE_SUITE_Spouse, partner  NAME_TYPE_SUITE_Unaccompanied  CNT_PAYMENT  \n",
       "0                                0                              0           12  \n",
       "1                                0                              1           36  \n",
       "2                                1                              0           12  \n",
       "3                                0                              0           12  \n",
       "4                                0                              0           24  \n",
       "\n",
       "[5 rows x 111 columns]"
      ]
     },
     "execution_count": 8,
     "metadata": {},
     "output_type": "execute_result"
    }
   ],
   "source": [
    "tr.head()"
   ]
  },
  {
   "cell_type": "code",
   "execution_count": 9,
   "metadata": {},
   "outputs": [
    {
     "name": "stdout",
     "output_type": "stream",
     "text": [
      "[ 0  1  2  3  4  5  6  7  8  9 10 11 12 13 14 15 16 17 18 19 20 21 22 23\n",
      " 24 25 26 27 28 29 30 31 32]\n",
      "(48744, 34)\n",
      "[ 0  1  2  3  4  5  6  7  8  9 10 11 12 13 14 15 16 17 18 19 20 21 22 23\n",
      " 24 25 26 27 28 29 30 31 32]\n",
      "(307511, 34)\n"
     ]
    }
   ],
   "source": [
    "for frame in [[t2, 'test'],[t1,'training']]:\n",
    "    test_df=frame[0]\n",
    "    tag=frame[1]\n",
    "    j=clf.predict_proba(test_df[feats], verbose= 500)\n",
    "    test_df=test_df.fillna(-1)\n",
    "    gc.collect()\n",
    "    feature_importance_df = pd.DataFrame()\n",
    "    sqsum=[]\n",
    "    test_df['certainty']=0\n",
    "    print(np.arange(0,j.shape[1]-1))\n",
    "    print(j.shape)\n",
    "    for k in np.arange(0,j.shape[1]-1):\n",
    "            test_df['CNT_prob_'+str(k)]=j[:,k]\n",
    "            test_df['CNT_prob_sq_'+str(k)]=test_df['CNT_prob_'+str(k)]*test_df['CNT_prob_'+str(k)]\n",
    "            test_df['certainty']+=test_df['CNT_prob_sq_'+str(k)]\n",
    "\n",
    "    predictions=pd.DataFrame()\n",
    "    for k in np.arange(0,j.shape[1]-1):\n",
    "            predictions[str(clf.classes_[k])]=j[:,k]\n",
    "    predictions['best_guess']=predictions.idxmax(axis=1)\n",
    "    predictions['best_guess']=predictions.best_guess.astype('float')\n",
    "    test_df['lgbm_CNT']=predictions['best_guess']\n",
    "    test_df[['SK_ID_CURR','lgbm_CNT','certainty']].to_csv('lgbm_CNT_'+tag+'.csv', index= False)"
   ]
  },
  {
   "cell_type": "markdown",
   "metadata": {},
   "source": [
    "Only including results with more than 70% prediction accuracy"
   ]
  },
  {
   "cell_type": "code",
   "execution_count": 10,
   "metadata": {},
   "outputs": [],
   "source": [
    "tpayments=pd.read_csv('lgbm_CNT_test.csv')\n",
    "tpayments=tpayments[tpayments.certainty>0.7]\n",
    "tpayments.to_csv(r'lgbm_CNT_test.csv')\n",
    "payments=pd.read_csv('lgbm_CNT_training.csv')\n",
    "payments=payments[payments.certainty>0.7]\n",
    "payments.to_csv(r'lgbm_CNT_training.csv')"
   ]
  },
  {
   "cell_type": "code",
   "execution_count": 11,
   "metadata": {},
   "outputs": [
    {
     "data": {
      "image/png": "[encoded data removed]",
      "text/plain": [
       "<Figure size 576x720 with 1 Axes>"
      ]
     },
     "metadata": {
      "needs_background": "light"
     },
     "output_type": "display_data"
    }
   ],
   "source": [
    "feature_importance_df = pd.DataFrame()\n",
    "feature_importance_df[\"feature\"] = feats\n",
    "feature_importance_df[\"importance\"] = clf.feature_importances_\n",
    "feature_importance_df[['feature', 'importance']].to_csv('importances.csv', index= False)\n",
    "\n",
    "def display_importances(feature_importance_df_):\n",
    "    cols = feature_importance_df_[[\"feature\", \"importance\"]].groupby(\"feature\").mean().sort_values(by=\"importance\", ascending=False)[:40].index\n",
    "    best_features = feature_importance_df_.loc[feature_importance_df_.feature.isin(cols)]\n",
    "    plt.figure(figsize=(8, 10))\n",
    "    sns.barplot(x=\"importance\", y=\"feature\", data=best_features.sort_values(by=\"importance\", ascending=False))\n",
    "    plt.title('LightGBM Features (avg over folds)')\n",
    "    plt.tight_layout()\n",
    "    plt.savefig('lgbm_importances01.png')\n",
    "    \n",
    "display_importances(feature_importance_df)"
   ]
  }
 ],
 "metadata": {
  "kernelspec": {
   "display_name": "Python 3",
   "language": "python",
   "name": "python3"
  },
  "language_info": {
   "codemirror_mode": {
    "name": "ipython",
    "version": 3
   },
   "file_extension": ".py",
   "mimetype": "text/x-python",
   "name": "python",
   "nbconvert_exporter": "python",
   "pygments_lexer": "ipython3",
   "version": "3.7.6"
  }
 },
 "nbformat": 4,
 "nbformat_minor": 4
}
